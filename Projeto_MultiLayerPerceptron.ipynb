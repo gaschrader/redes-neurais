{
  "nbformat": 4,
  "nbformat_minor": 0,
  "metadata": {
    "colab": {
      "provenance": [],
      "collapsed_sections": []
    },
    "kernelspec": {
      "name": "python3",
      "display_name": "Python 3"
    },
    "language_info": {
      "name": "python"
    }
  },
  "cells": [
    {
      "cell_type": "markdown",
      "source": [
        "#Projeto 1 - Rede MLP - Redes Neurais Artificiais\n",
        "\n",
        "##Gabriel Schrader Vilas Boas, RA: 150981"
      ],
      "metadata": {
        "id": "KaOA-FL36mX4"
      }
    },
    {
      "cell_type": "markdown",
      "source": [
        "Abaixo, seguem as implementações da rede neural MLP para um caso de classificação e outro de regressão. Para cada caso, um dataset diferente foi utilizado, sendo o dataset diabetes utilizado para classificação e o dataset insurance para regressão. Para cada implementação, diferentes topologias e hiperparâmetros serão testados e analisados, de forma a observar os diferentes comportamentos obtidos. Além disso, vale ressaltar que as implementações foram todas baseadas e feitas com base no uso da biblioteca sklearn, que já possui implementações para o classificador e o regressor MLP. Para finalizar, temos que, além deste arquivo .ipynb, serão enviados cada algoritmo .py e arquivos .csv separadamente caso seja melhor de acompanhar o funcionamento de cada algoritmo."
      ],
      "metadata": {
        "id": "-ku217-T8b0W"
      }
    },
    {
      "cell_type": "markdown",
      "source": [
        "#Bibliotecas utilizadas"
      ],
      "metadata": {
        "id": "DSbMLwXe8XYB"
      }
    },
    {
      "cell_type": "code",
      "source": [
        "from sklearn.neural_network import MLPClassifier, MLPRegressor\n",
        "from sklearn.model_selection import train_test_split\n",
        "from sklearn import metrics\n",
        "import numpy as np\n",
        "import pandas as pd\n",
        "import matplotlib.pyplot as plt\n",
        "from sklearn.preprocessing import StandardScaler"
      ],
      "metadata": {
        "id": "VNMdYQfk8eas"
      },
      "execution_count": 97,
      "outputs": []
    },
    {
      "cell_type": "markdown",
      "source": [
        "#Classificador MLP"
      ],
      "metadata": {
        "id": "sngt1xbG66uO"
      }
    },
    {
      "cell_type": "markdown",
      "source": [
        "##Arquivos importados"
      ],
      "metadata": {
        "id": "ifJiIJbm9VkK"
      }
    },
    {
      "cell_type": "code",
      "source": [
        "from google.colab import files\n",
        "import io\n",
        "data_to_load = files.upload()\n",
        "data = pd.read_csv(io.BytesIO(data_to_load['diabetes.csv']))"
      ],
      "metadata": {
        "colab": {
          "base_uri": "https://localhost:8080/",
          "height": 73
        },
        "id": "W4-IFqJp9VLc",
        "outputId": "05df0c32-edea-4c4b-c930-68c37f473395"
      },
      "execution_count": 98,
      "outputs": [
        {
          "output_type": "display_data",
          "data": {
            "text/plain": [
              "<IPython.core.display.HTML object>"
            ],
            "text/html": [
              "\n",
              "     <input type=\"file\" id=\"files-795dee6b-e822-4142-9194-22d028f344c2\" name=\"files[]\" multiple disabled\n",
              "        style=\"border:none\" />\n",
              "     <output id=\"result-795dee6b-e822-4142-9194-22d028f344c2\">\n",
              "      Upload widget is only available when the cell has been executed in the\n",
              "      current browser session. Please rerun this cell to enable.\n",
              "      </output>\n",
              "      <script>// Copyright 2017 Google LLC\n",
              "//\n",
              "// Licensed under the Apache License, Version 2.0 (the \"License\");\n",
              "// you may not use this file except in compliance with the License.\n",
              "// You may obtain a copy of the License at\n",
              "//\n",
              "//      http://www.apache.org/licenses/LICENSE-2.0\n",
              "//\n",
              "// Unless required by applicable law or agreed to in writing, software\n",
              "// distributed under the License is distributed on an \"AS IS\" BASIS,\n",
              "// WITHOUT WARRANTIES OR CONDITIONS OF ANY KIND, either express or implied.\n",
              "// See the License for the specific language governing permissions and\n",
              "// limitations under the License.\n",
              "\n",
              "/**\n",
              " * @fileoverview Helpers for google.colab Python module.\n",
              " */\n",
              "(function(scope) {\n",
              "function span(text, styleAttributes = {}) {\n",
              "  const element = document.createElement('span');\n",
              "  element.textContent = text;\n",
              "  for (const key of Object.keys(styleAttributes)) {\n",
              "    element.style[key] = styleAttributes[key];\n",
              "  }\n",
              "  return element;\n",
              "}\n",
              "\n",
              "// Max number of bytes which will be uploaded at a time.\n",
              "const MAX_PAYLOAD_SIZE = 100 * 1024;\n",
              "\n",
              "function _uploadFiles(inputId, outputId) {\n",
              "  const steps = uploadFilesStep(inputId, outputId);\n",
              "  const outputElement = document.getElementById(outputId);\n",
              "  // Cache steps on the outputElement to make it available for the next call\n",
              "  // to uploadFilesContinue from Python.\n",
              "  outputElement.steps = steps;\n",
              "\n",
              "  return _uploadFilesContinue(outputId);\n",
              "}\n",
              "\n",
              "// This is roughly an async generator (not supported in the browser yet),\n",
              "// where there are multiple asynchronous steps and the Python side is going\n",
              "// to poll for completion of each step.\n",
              "// This uses a Promise to block the python side on completion of each step,\n",
              "// then passes the result of the previous step as the input to the next step.\n",
              "function _uploadFilesContinue(outputId) {\n",
              "  const outputElement = document.getElementById(outputId);\n",
              "  const steps = outputElement.steps;\n",
              "\n",
              "  const next = steps.next(outputElement.lastPromiseValue);\n",
              "  return Promise.resolve(next.value.promise).then((value) => {\n",
              "    // Cache the last promise value to make it available to the next\n",
              "    // step of the generator.\n",
              "    outputElement.lastPromiseValue = value;\n",
              "    return next.value.response;\n",
              "  });\n",
              "}\n",
              "\n",
              "/**\n",
              " * Generator function which is called between each async step of the upload\n",
              " * process.\n",
              " * @param {string} inputId Element ID of the input file picker element.\n",
              " * @param {string} outputId Element ID of the output display.\n",
              " * @return {!Iterable<!Object>} Iterable of next steps.\n",
              " */\n",
              "function* uploadFilesStep(inputId, outputId) {\n",
              "  const inputElement = document.getElementById(inputId);\n",
              "  inputElement.disabled = false;\n",
              "\n",
              "  const outputElement = document.getElementById(outputId);\n",
              "  outputElement.innerHTML = '';\n",
              "\n",
              "  const pickedPromise = new Promise((resolve) => {\n",
              "    inputElement.addEventListener('change', (e) => {\n",
              "      resolve(e.target.files);\n",
              "    });\n",
              "  });\n",
              "\n",
              "  const cancel = document.createElement('button');\n",
              "  inputElement.parentElement.appendChild(cancel);\n",
              "  cancel.textContent = 'Cancel upload';\n",
              "  const cancelPromise = new Promise((resolve) => {\n",
              "    cancel.onclick = () => {\n",
              "      resolve(null);\n",
              "    };\n",
              "  });\n",
              "\n",
              "  // Wait for the user to pick the files.\n",
              "  const files = yield {\n",
              "    promise: Promise.race([pickedPromise, cancelPromise]),\n",
              "    response: {\n",
              "      action: 'starting',\n",
              "    }\n",
              "  };\n",
              "\n",
              "  cancel.remove();\n",
              "\n",
              "  // Disable the input element since further picks are not allowed.\n",
              "  inputElement.disabled = true;\n",
              "\n",
              "  if (!files) {\n",
              "    return {\n",
              "      response: {\n",
              "        action: 'complete',\n",
              "      }\n",
              "    };\n",
              "  }\n",
              "\n",
              "  for (const file of files) {\n",
              "    const li = document.createElement('li');\n",
              "    li.append(span(file.name, {fontWeight: 'bold'}));\n",
              "    li.append(span(\n",
              "        `(${file.type || 'n/a'}) - ${file.size} bytes, ` +\n",
              "        `last modified: ${\n",
              "            file.lastModifiedDate ? file.lastModifiedDate.toLocaleDateString() :\n",
              "                                    'n/a'} - `));\n",
              "    const percent = span('0% done');\n",
              "    li.appendChild(percent);\n",
              "\n",
              "    outputElement.appendChild(li);\n",
              "\n",
              "    const fileDataPromise = new Promise((resolve) => {\n",
              "      const reader = new FileReader();\n",
              "      reader.onload = (e) => {\n",
              "        resolve(e.target.result);\n",
              "      };\n",
              "      reader.readAsArrayBuffer(file);\n",
              "    });\n",
              "    // Wait for the data to be ready.\n",
              "    let fileData = yield {\n",
              "      promise: fileDataPromise,\n",
              "      response: {\n",
              "        action: 'continue',\n",
              "      }\n",
              "    };\n",
              "\n",
              "    // Use a chunked sending to avoid message size limits. See b/62115660.\n",
              "    let position = 0;\n",
              "    do {\n",
              "      const length = Math.min(fileData.byteLength - position, MAX_PAYLOAD_SIZE);\n",
              "      const chunk = new Uint8Array(fileData, position, length);\n",
              "      position += length;\n",
              "\n",
              "      const base64 = btoa(String.fromCharCode.apply(null, chunk));\n",
              "      yield {\n",
              "        response: {\n",
              "          action: 'append',\n",
              "          file: file.name,\n",
              "          data: base64,\n",
              "        },\n",
              "      };\n",
              "\n",
              "      let percentDone = fileData.byteLength === 0 ?\n",
              "          100 :\n",
              "          Math.round((position / fileData.byteLength) * 100);\n",
              "      percent.textContent = `${percentDone}% done`;\n",
              "\n",
              "    } while (position < fileData.byteLength);\n",
              "  }\n",
              "\n",
              "  // All done.\n",
              "  yield {\n",
              "    response: {\n",
              "      action: 'complete',\n",
              "    }\n",
              "  };\n",
              "}\n",
              "\n",
              "scope.google = scope.google || {};\n",
              "scope.google.colab = scope.google.colab || {};\n",
              "scope.google.colab._files = {\n",
              "  _uploadFiles,\n",
              "  _uploadFilesContinue,\n",
              "};\n",
              "})(self);\n",
              "</script> "
            ]
          },
          "metadata": {}
        },
        {
          "output_type": "stream",
          "name": "stdout",
          "text": [
            "Saving diabetes.csv to diabetes (8).csv\n"
          ]
        }
      ]
    },
    {
      "cell_type": "markdown",
      "source": [
        "Abaixo, temos o código geral utilizado para executar a rede MLP para classificação do dataset diabetes, que, com base em determinadas características de um indivíduo, classifica se tal indivíduo tem - ou não - diabetes. Após esse código teremos gráficos que mostram diferentes utilizações do mesmo, considerando outras topologias e outras diferenças entre os hiperparâmetros."
      ],
      "metadata": {
        "id": "F4RVsqg5EJpB"
      }
    },
    {
      "cell_type": "markdown",
      "source": [
        "##Algoritmo"
      ],
      "metadata": {
        "id": "a6aAstrgM01e"
      }
    },
    {
      "cell_type": "code",
      "execution_count": 99,
      "metadata": {
        "id": "anAgYRun6ipJ"
      },
      "outputs": [],
      "source": [
        "df_norm = data[['Pregnancies', 'Glucose', 'BloodPressure', 'SkinThickness', 'Insulin', 'BMI', 'DiabetesPedigreeFunction', 'Age']].apply(lambda x: (x - x.min()) / (x.max() - x.min()))\n",
        "\n",
        "target = data['Outcome']\n",
        "\n",
        "preg = df_norm['Pregnancies']\n",
        "gluc = df_norm['Glucose']\n",
        "bp = df_norm['BloodPressure']\n",
        "st = df_norm['SkinThickness']\n",
        "insulin = df_norm['Insulin']\n",
        "bmi = df_norm['BMI']\n",
        "dpf = df_norm['DiabetesPedigreeFunction']\n",
        "age = df_norm['Age']\n",
        "\n",
        "X = np.column_stack((preg, gluc, bp, st, insulin, bmi, dpf, age))\n",
        "y = target\n",
        "\n",
        "X_train, X_test, y_train, y_test = train_test_split(X, y, test_size = 0.2)"
      ]
    },
    {
      "cell_type": "markdown",
      "source": [
        "###Teste 1"
      ],
      "metadata": {
        "id": "V67CpRsKQ1i9"
      }
    },
    {
      "cell_type": "code",
      "source": [
        "mlpClass = MLPClassifier(solver = 'sgd', max_iter=10000, momentum=0.95, alpha=0.1, learning_rate_init= 1, early_stopping=True, validation_fraction=0.2, activation = 'relu')\n",
        "mlpClass.fit(X_train, y_train)\n",
        "\n",
        "prediction = mlpClass.predict(X_test)\n",
        "print(\"Predicao: \", prediction)\n",
        "print(\"Teste: \", y_test.values)\n",
        "print('Acurácia:', mlpClass.score(X_test, y_test))"
      ],
      "metadata": {
        "colab": {
          "base_uri": "https://localhost:8080/"
        },
        "id": "y8Q65K4eQ0sm",
        "outputId": "76e1bdd5-2f22-4389-8899-efe68feb61ef"
      },
      "execution_count": 103,
      "outputs": [
        {
          "output_type": "stream",
          "name": "stdout",
          "text": [
            "Predicao:  [0 0 0 1 1 0 0 0 0 1 1 0 0 0 0 0 1 0 0 1 0 0 0 0 0 0 0 0 0 0 0 0 0 0 0 0 0\n",
            " 1 0 0 0 0 1 0 0 0 0 1 0 1 0 0 0 0 0 1 0 0 0 0 0 0 0 1 1 1 0 0 1 1 1 0 0 1\n",
            " 0 0 0 0 0 1 0 0 1 1 1 1 1 0 0 0 0 0 1 0 1 1 0 0 1 1 0 0 1 1 0 0 0 1 1 0 0\n",
            " 1 0 0 0 0 0 0 0 0 0 0 0 0 1 1 0 0 1 0 0 0 0 0 0 0 0 0 1 1 0 0 0 0 0 0 0 0\n",
            " 0 0 0 0 1 0]\n",
            "Teste:  [0 0 0 1 1 0 1 0 1 1 1 1 0 0 1 0 1 0 0 1 0 0 0 1 0 0 0 1 0 0 1 0 0 0 1 0 1\n",
            " 0 0 0 0 0 1 0 0 0 0 1 1 1 0 0 0 0 0 0 0 0 0 0 0 0 0 0 1 0 0 0 0 0 0 0 0 0\n",
            " 1 1 0 0 1 1 1 0 0 1 1 1 1 0 0 0 0 1 1 0 1 0 0 1 1 1 0 1 0 1 0 0 0 1 0 0 0\n",
            " 1 1 1 1 0 0 0 0 1 1 0 1 0 1 0 0 0 1 0 1 0 0 0 0 0 1 0 1 1 0 0 0 0 0 0 0 1\n",
            " 0 1 0 0 0 0]\n",
            "Acurácia: 0.7337662337662337\n"
          ]
        }
      ]
    },
    {
      "cell_type": "markdown",
      "source": [
        "Para o dataset escolhido, a eficácia da classificação do MLP é de 70% a 82%, considerando os seguintes hiperparâmetros, todos passados no argumento da classe MLPClassifier da biblioteca sklearn:\n",
        "- Algoritmo original SGD;\n",
        "- Momentum = 0.95;\n",
        "- Força de regularização (L2) = 0.1;\n",
        "- População de validação = 20% da população de treino (representado por *validation_fraction*);\n",
        "- Ativação ReLU;\n",
        "- Taxa de aprendizado inicial = 1;\n",
        "- Tipo de aprendizado = constante;\n",
        "- Número máximo de épocas = 10000\n",
        "- Dentre outras características omitidas como argumento de MLPClassifier mas seguindo valores \"default\" da classe quando essa é inicializada. A maioria dos testes seguintes seguirá estes dados, exceto por mudanças em topologias e/ou L2 e momentum.\n",
        "\n"
      ],
      "metadata": {
        "id": "8LSdJPBX_6uB"
      }
    },
    {
      "cell_type": "markdown",
      "source": [
        "Abaixo, temos um gráfico que ilustra a loss do algoritmo para cada época decorrida até se término, ou seja, não houve mudança relevante nas últimas 10 épocas."
      ],
      "metadata": {
        "id": "AdoHbBlUVRhu"
      }
    },
    {
      "cell_type": "code",
      "source": [
        "plt.plot([i for i in range(mlpClass.n_iter_)], mlpClass.loss_curve_)\n",
        "plt.show()"
      ],
      "metadata": {
        "colab": {
          "base_uri": "https://localhost:8080/",
          "height": 265
        },
        "id": "DdTpNbz0TpLP",
        "outputId": "50397bd2-3f62-4777-f019-3a2dd3475f1e"
      },
      "execution_count": 104,
      "outputs": [
        {
          "output_type": "display_data",
          "data": {
            "text/plain": [
              "<Figure size 432x288 with 1 Axes>"
            ],
            "image/png": "[encoded data removed]"
          },
          "metadata": {
            "needs_background": "light"
          }
        }
      ]
    },
    {
      "cell_type": "markdown",
      "source": [
        "###Teste 2"
      ],
      "metadata": {
        "id": "iA-e33smQ9e0"
      }
    },
    {
      "cell_type": "markdown",
      "source": [
        "Neste teste, temos o momentum sendo igual a zero, tendo como intuito analisar quão diferente fica a acurácia e predição do algoritmo."
      ],
      "metadata": {
        "id": "9gIlMuTyRGRn"
      }
    },
    {
      "cell_type": "code",
      "source": [
        "mlpClass = MLPClassifier(hidden_layer_sizes = (1000), solver = 'sgd', max_iter=10000, momentum=0.0, alpha=0.1, learning_rate_init= 1, early_stopping=True, validation_fraction=0.2, activation = 'relu')\n",
        "\n",
        "mlpClass.fit(X_train, y_train)\n",
        "\n",
        "prediction = mlpClass.predict(X_test)\n",
        "print(\"Predicao: \", prediction)\n",
        "print(\"Teste: \", y_test.values)\n",
        "print('Acurácia:', mlpClass.score(X_test, y_test))"
      ],
      "metadata": {
        "colab": {
          "base_uri": "https://localhost:8080/"
        },
        "id": "AJSILhRhREGV",
        "outputId": "103f2434-5535-4f5e-c507-29f36433492a"
      },
      "execution_count": 105,
      "outputs": [
        {
          "output_type": "stream",
          "name": "stdout",
          "text": [
            "Predicao:  [0 0 0 1 1 0 0 0 0 1 1 0 0 0 0 0 1 0 0 1 0 0 0 0 0 0 0 1 0 0 0 0 0 0 0 0 1\n",
            " 0 0 0 0 0 1 0 0 0 0 1 0 0 0 0 0 0 0 1 0 0 0 0 1 0 0 0 0 1 0 0 0 0 0 0 0 1\n",
            " 1 1 0 0 0 1 0 0 0 0 1 1 0 0 0 0 0 0 1 0 0 1 0 0 1 1 0 0 0 1 0 0 0 1 0 0 0\n",
            " 0 0 1 0 0 0 0 0 0 0 0 0 0 1 1 0 0 1 0 1 0 0 0 1 0 0 0 0 1 0 1 0 0 0 0 0 1\n",
            " 0 1 0 0 1 0]\n",
            "Teste:  [0 0 0 1 1 0 1 0 1 1 1 1 0 0 1 0 1 0 0 1 0 0 0 1 0 0 0 1 0 0 1 0 0 0 1 0 1\n",
            " 0 0 0 0 0 1 0 0 0 0 1 1 1 0 0 0 0 0 0 0 0 0 0 0 0 0 0 1 0 0 0 0 0 0 0 0 0\n",
            " 1 1 0 0 1 1 1 0 0 1 1 1 1 0 0 0 0 1 1 0 1 0 0 1 1 1 0 1 0 1 0 0 0 1 0 0 0\n",
            " 1 1 1 1 0 0 0 0 1 1 0 1 0 1 0 0 0 1 0 1 0 0 0 0 0 1 0 1 1 0 0 0 0 0 0 0 1\n",
            " 0 1 0 0 0 0]\n",
            "Acurácia: 0.7727272727272727\n"
          ]
        }
      ]
    },
    {
      "cell_type": "markdown",
      "source": [
        "###Teste 3"
      ],
      "metadata": {
        "id": "b_TNw_v4Rf4j"
      }
    },
    {
      "cell_type": "markdown",
      "source": [
        "Agora, testamos como funciona o algoritmo no cenário em que a força de regularização (L2) é alta. Além disso, outra topologia é escolhida, com uma camada oculta."
      ],
      "metadata": {
        "id": "TvI_35HERhVZ"
      }
    },
    {
      "cell_type": "code",
      "source": [
        "mlpClass = MLPClassifier(hidden_layer_sizes = (100), solver = 'sgd', max_iter=10000, momentum=0.95, alpha=1, learning_rate_init= 1, early_stopping=True, validation_fraction=0.2, activation = 'relu')\n",
        "\n",
        "mlpClass.fit(X_train, y_train)\n",
        "\n",
        "prediction = mlpClass.predict(X_test)\n",
        "print(\"Predicao: \", prediction)\n",
        "print(\"Teste: \", y_test.values)\n",
        "print('Acurácia:', mlpClass.score(X_test, y_test))"
      ],
      "metadata": {
        "colab": {
          "base_uri": "https://localhost:8080/"
        },
        "id": "cfKBLEqZRoAm",
        "outputId": "744143d5-ccb8-4e91-8167-2f20d1ff86cc"
      },
      "execution_count": 106,
      "outputs": [
        {
          "output_type": "stream",
          "name": "stdout",
          "text": [
            "Predicao:  [0 0 0 1 1 0 0 1 0 1 1 0 0 0 1 0 1 0 0 1 1 0 0 1 1 0 0 1 1 0 1 0 1 1 0 1 1\n",
            " 1 0 0 1 0 1 0 0 0 0 1 0 1 0 0 0 0 0 1 0 0 0 0 1 1 0 1 1 1 0 0 1 1 1 0 1 1\n",
            " 1 1 1 0 0 1 1 0 1 1 1 1 1 0 0 0 0 0 1 0 1 1 0 1 1 1 0 1 1 1 1 0 0 1 1 0 0\n",
            " 0 0 1 1 1 0 0 0 1 0 0 0 0 1 1 0 0 1 0 1 0 0 0 1 0 0 0 0 1 0 0 0 0 0 0 1 1\n",
            " 0 1 0 0 1 0]\n",
            "Teste:  [0 0 0 1 1 0 1 0 1 1 1 1 0 0 1 0 1 0 0 1 0 0 0 1 0 0 0 1 0 0 1 0 0 0 1 0 1\n",
            " 0 0 0 0 0 1 0 0 0 0 1 1 1 0 0 0 0 0 0 0 0 0 0 0 0 0 0 1 0 0 0 0 0 0 0 0 0\n",
            " 1 1 0 0 1 1 1 0 0 1 1 1 1 0 0 0 0 1 1 0 1 0 0 1 1 1 0 1 0 1 0 0 0 1 0 0 0\n",
            " 1 1 1 1 0 0 0 0 1 1 0 1 0 1 0 0 0 1 0 1 0 0 0 0 0 1 0 1 1 0 0 0 0 0 0 0 1\n",
            " 0 1 0 0 0 0]\n",
            "Acurácia: 0.7207792207792207\n"
          ]
        }
      ]
    },
    {
      "cell_type": "markdown",
      "source": [
        "###Teste 4"
      ],
      "metadata": {
        "id": "vEosnq-WSLoa"
      }
    },
    {
      "cell_type": "markdown",
      "source": [
        "Topologia diferente: maior número de camadas. Nesse caso, levando em consideração os outros parâmetros, a efetividade do algoritmo cai consideravelmente."
      ],
      "metadata": {
        "id": "Bl-LJ44YSND_"
      }
    },
    {
      "cell_type": "code",
      "source": [
        "mlpClass = MLPClassifier(hidden_layer_sizes = (100, 100, 100), solver = 'sgd', max_iter=10000, momentum=0.95, alpha=1, learning_rate_init= 1, early_stopping=True, validation_fraction=0.2, activation = 'relu')\n",
        "\n",
        "mlpClass.fit(X_train, y_train)\n",
        "\n",
        "prediction = mlpClass.predict(X_test)\n",
        "print(\"Predicao: \", prediction)\n",
        "print(\"Teste: \", y_test.values)\n",
        "print('Acurácia:', mlpClass.score(X_test, y_test))"
      ],
      "metadata": {
        "colab": {
          "base_uri": "https://localhost:8080/"
        },
        "id": "-U-L6wRnSNZf",
        "outputId": "130db36a-1e82-4125-f4cb-b3eaa130cbd4"
      },
      "execution_count": 108,
      "outputs": [
        {
          "output_type": "stream",
          "name": "stdout",
          "text": [
            "Predicao:  [0 0 0 0 0 0 0 0 0 0 0 0 0 0 0 0 0 0 0 0 0 0 0 0 0 0 0 0 0 0 0 0 0 0 0 0 0\n",
            " 0 0 0 0 0 0 0 0 0 0 0 0 0 0 0 0 0 0 0 0 0 0 0 0 0 0 0 0 0 0 0 0 0 0 0 0 0\n",
            " 0 0 0 0 0 0 0 0 0 0 0 0 0 0 0 0 0 0 0 0 0 0 0 0 0 0 0 0 0 0 0 0 0 0 0 0 0\n",
            " 0 0 0 0 0 0 0 0 0 0 0 0 0 0 0 0 0 0 0 0 0 0 0 0 0 0 0 0 0 0 0 0 0 0 0 0 0\n",
            " 0 0 0 0 0 0]\n",
            "Teste:  [0 0 0 1 1 0 1 0 1 1 1 1 0 0 1 0 1 0 0 1 0 0 0 1 0 0 0 1 0 0 1 0 0 0 1 0 1\n",
            " 0 0 0 0 0 1 0 0 0 0 1 1 1 0 0 0 0 0 0 0 0 0 0 0 0 0 0 1 0 0 0 0 0 0 0 0 0\n",
            " 1 1 0 0 1 1 1 0 0 1 1 1 1 0 0 0 0 1 1 0 1 0 0 1 1 1 0 1 0 1 0 0 0 1 0 0 0\n",
            " 1 1 1 1 0 0 0 0 1 1 0 1 0 1 0 0 0 1 0 1 0 0 0 0 0 1 0 1 1 0 0 0 0 0 0 0 1\n",
            " 0 1 0 0 0 0]\n",
            "Acurácia: 0.6558441558441559\n"
          ]
        }
      ]
    },
    {
      "cell_type": "markdown",
      "source": [
        "###Teste 5"
      ],
      "metadata": {
        "id": "I8hbdYrfSk3h"
      }
    },
    {
      "cell_type": "markdown",
      "source": [
        "Esse é o teste final para a classificação de diabetes. Nesse teste, o número de camadas será ainda maior, porém a taxa de aprendizado inicial será diferente. Apesar da acurácia não parecer tão baixa, o algoritmo com esses parâmetros não acerta nenhuma caso positivo de diabetes."
      ],
      "metadata": {
        "id": "7ro4VpoMSm9-"
      }
    },
    {
      "cell_type": "code",
      "source": [
        "mlpClass = MLPClassifier(hidden_layer_sizes = (8, 8, 8, 8, 8), solver = 'sgd', max_iter=10000, momentum=0.75, alpha=0.5, learning_rate_init= 0.5, early_stopping=True, validation_fraction=0.2, activation = 'relu')\n",
        "\n",
        "mlpClass.fit(X_train, y_train)\n",
        "\n",
        "prediction = mlpClass.predict(X_test)\n",
        "print(\"Predicao: \", prediction)\n",
        "print(\"Teste: \", y_test.values)\n",
        "print('Acurácia:', mlpClass.score(X_test, y_test))"
      ],
      "metadata": {
        "colab": {
          "base_uri": "https://localhost:8080/"
        },
        "id": "R9pW--jSSu87",
        "outputId": "713479ac-9c92-4fc6-f6ca-7b18ea9ad943"
      },
      "execution_count": 113,
      "outputs": [
        {
          "output_type": "stream",
          "name": "stdout",
          "text": [
            "Predicao:  [0 0 0 0 0 0 0 0 0 0 0 0 0 0 0 0 0 0 0 0 0 0 0 0 0 0 0 0 0 0 0 0 0 0 0 0 0\n",
            " 0 0 0 0 0 0 0 0 0 0 0 0 0 0 0 0 0 0 0 0 0 0 0 0 0 0 0 0 0 0 0 0 0 0 0 0 0\n",
            " 0 0 0 0 0 0 0 0 0 0 0 0 0 0 0 0 0 0 0 0 0 0 0 0 0 0 0 0 0 0 0 0 0 0 0 0 0\n",
            " 0 0 0 0 0 0 0 0 0 0 0 0 0 0 0 0 0 0 0 0 0 0 0 0 0 0 0 0 0 0 0 0 0 0 0 0 0\n",
            " 0 0 0 0 0 0]\n",
            "Teste:  [0 0 0 1 1 0 1 0 1 1 1 1 0 0 1 0 1 0 0 1 0 0 0 1 0 0 0 1 0 0 1 0 0 0 1 0 1\n",
            " 0 0 0 0 0 1 0 0 0 0 1 1 1 0 0 0 0 0 0 0 0 0 0 0 0 0 0 1 0 0 0 0 0 0 0 0 0\n",
            " 1 1 0 0 1 1 1 0 0 1 1 1 1 0 0 0 0 1 1 0 1 0 0 1 1 1 0 1 0 1 0 0 0 1 0 0 0\n",
            " 1 1 1 1 0 0 0 0 1 1 0 1 0 1 0 0 0 1 0 1 0 0 0 0 0 1 0 1 1 0 0 0 0 0 0 0 1\n",
            " 0 1 0 0 0 0]\n",
            "Acurácia: 0.6558441558441559\n"
          ]
        }
      ]
    },
    {
      "cell_type": "markdown",
      "source": [
        "#Regressor MLP"
      ],
      "metadata": {
        "id": "tJ4gwaC-6_82"
      }
    },
    {
      "cell_type": "markdown",
      "source": [
        "##Arquivos importados"
      ],
      "metadata": {
        "id": "hQC0J9IDZoaF"
      }
    },
    {
      "cell_type": "code",
      "source": [
        "from google.colab import files\n",
        "import io\n",
        "data_to_load = files.upload()\n",
        "data = pd.read_csv(io.BytesIO(data_to_load['insurance.csv']))"
      ],
      "metadata": {
        "colab": {
          "base_uri": "https://localhost:8080/",
          "height": 73
        },
        "id": "cwW6W6hgZppm",
        "outputId": "6588c3f2-1c44-4a7a-baf0-1901b7544c25"
      },
      "execution_count": 114,
      "outputs": [
        {
          "output_type": "display_data",
          "data": {
            "text/plain": [
              "<IPython.core.display.HTML object>"
            ],
            "text/html": [
              "\n",
              "     <input type=\"file\" id=\"files-1dc1dee5-3243-4c46-a697-f8d867ec80b4\" name=\"files[]\" multiple disabled\n",
              "        style=\"border:none\" />\n",
              "     <output id=\"result-1dc1dee5-3243-4c46-a697-f8d867ec80b4\">\n",
              "      Upload widget is only available when the cell has been executed in the\n",
              "      current browser session. Please rerun this cell to enable.\n",
              "      </output>\n",
              "      <script>// Copyright 2017 Google LLC\n",
              "//\n",
              "// Licensed under the Apache License, Version 2.0 (the \"License\");\n",
              "// you may not use this file except in compliance with the License.\n",
              "// You may obtain a copy of the License at\n",
              "//\n",
              "//      http://www.apache.org/licenses/LICENSE-2.0\n",
              "//\n",
              "// Unless required by applicable law or agreed to in writing, software\n",
              "// distributed under the License is distributed on an \"AS IS\" BASIS,\n",
              "// WITHOUT WARRANTIES OR CONDITIONS OF ANY KIND, either express or implied.\n",
              "// See the License for the specific language governing permissions and\n",
              "// limitations under the License.\n",
              "\n",
              "/**\n",
              " * @fileoverview Helpers for google.colab Python module.\n",
              " */\n",
              "(function(scope) {\n",
              "function span(text, styleAttributes = {}) {\n",
              "  const element = document.createElement('span');\n",
              "  element.textContent = text;\n",
              "  for (const key of Object.keys(styleAttributes)) {\n",
              "    element.style[key] = styleAttributes[key];\n",
              "  }\n",
              "  return element;\n",
              "}\n",
              "\n",
              "// Max number of bytes which will be uploaded at a time.\n",
              "const MAX_PAYLOAD_SIZE = 100 * 1024;\n",
              "\n",
              "function _uploadFiles(inputId, outputId) {\n",
              "  const steps = uploadFilesStep(inputId, outputId);\n",
              "  const outputElement = document.getElementById(outputId);\n",
              "  // Cache steps on the outputElement to make it available for the next call\n",
              "  // to uploadFilesContinue from Python.\n",
              "  outputElement.steps = steps;\n",
              "\n",
              "  return _uploadFilesContinue(outputId);\n",
              "}\n",
              "\n",
              "// This is roughly an async generator (not supported in the browser yet),\n",
              "// where there are multiple asynchronous steps and the Python side is going\n",
              "// to poll for completion of each step.\n",
              "// This uses a Promise to block the python side on completion of each step,\n",
              "// then passes the result of the previous step as the input to the next step.\n",
              "function _uploadFilesContinue(outputId) {\n",
              "  const outputElement = document.getElementById(outputId);\n",
              "  const steps = outputElement.steps;\n",
              "\n",
              "  const next = steps.next(outputElement.lastPromiseValue);\n",
              "  return Promise.resolve(next.value.promise).then((value) => {\n",
              "    // Cache the last promise value to make it available to the next\n",
              "    // step of the generator.\n",
              "    outputElement.lastPromiseValue = value;\n",
              "    return next.value.response;\n",
              "  });\n",
              "}\n",
              "\n",
              "/**\n",
              " * Generator function which is called between each async step of the upload\n",
              " * process.\n",
              " * @param {string} inputId Element ID of the input file picker element.\n",
              " * @param {string} outputId Element ID of the output display.\n",
              " * @return {!Iterable<!Object>} Iterable of next steps.\n",
              " */\n",
              "function* uploadFilesStep(inputId, outputId) {\n",
              "  const inputElement = document.getElementById(inputId);\n",
              "  inputElement.disabled = false;\n",
              "\n",
              "  const outputElement = document.getElementById(outputId);\n",
              "  outputElement.innerHTML = '';\n",
              "\n",
              "  const pickedPromise = new Promise((resolve) => {\n",
              "    inputElement.addEventListener('change', (e) => {\n",
              "      resolve(e.target.files);\n",
              "    });\n",
              "  });\n",
              "\n",
              "  const cancel = document.createElement('button');\n",
              "  inputElement.parentElement.appendChild(cancel);\n",
              "  cancel.textContent = 'Cancel upload';\n",
              "  const cancelPromise = new Promise((resolve) => {\n",
              "    cancel.onclick = () => {\n",
              "      resolve(null);\n",
              "    };\n",
              "  });\n",
              "\n",
              "  // Wait for the user to pick the files.\n",
              "  const files = yield {\n",
              "    promise: Promise.race([pickedPromise, cancelPromise]),\n",
              "    response: {\n",
              "      action: 'starting',\n",
              "    }\n",
              "  };\n",
              "\n",
              "  cancel.remove();\n",
              "\n",
              "  // Disable the input element since further picks are not allowed.\n",
              "  inputElement.disabled = true;\n",
              "\n",
              "  if (!files) {\n",
              "    return {\n",
              "      response: {\n",
              "        action: 'complete',\n",
              "      }\n",
              "    };\n",
              "  }\n",
              "\n",
              "  for (const file of files) {\n",
              "    const li = document.createElement('li');\n",
              "    li.append(span(file.name, {fontWeight: 'bold'}));\n",
              "    li.append(span(\n",
              "        `(${file.type || 'n/a'}) - ${file.size} bytes, ` +\n",
              "        `last modified: ${\n",
              "            file.lastModifiedDate ? file.lastModifiedDate.toLocaleDateString() :\n",
              "                                    'n/a'} - `));\n",
              "    const percent = span('0% done');\n",
              "    li.appendChild(percent);\n",
              "\n",
              "    outputElement.appendChild(li);\n",
              "\n",
              "    const fileDataPromise = new Promise((resolve) => {\n",
              "      const reader = new FileReader();\n",
              "      reader.onload = (e) => {\n",
              "        resolve(e.target.result);\n",
              "      };\n",
              "      reader.readAsArrayBuffer(file);\n",
              "    });\n",
              "    // Wait for the data to be ready.\n",
              "    let fileData = yield {\n",
              "      promise: fileDataPromise,\n",
              "      response: {\n",
              "        action: 'continue',\n",
              "      }\n",
              "    };\n",
              "\n",
              "    // Use a chunked sending to avoid message size limits. See b/62115660.\n",
              "    let position = 0;\n",
              "    do {\n",
              "      const length = Math.min(fileData.byteLength - position, MAX_PAYLOAD_SIZE);\n",
              "      const chunk = new Uint8Array(fileData, position, length);\n",
              "      position += length;\n",
              "\n",
              "      const base64 = btoa(String.fromCharCode.apply(null, chunk));\n",
              "      yield {\n",
              "        response: {\n",
              "          action: 'append',\n",
              "          file: file.name,\n",
              "          data: base64,\n",
              "        },\n",
              "      };\n",
              "\n",
              "      let percentDone = fileData.byteLength === 0 ?\n",
              "          100 :\n",
              "          Math.round((position / fileData.byteLength) * 100);\n",
              "      percent.textContent = `${percentDone}% done`;\n",
              "\n",
              "    } while (position < fileData.byteLength);\n",
              "  }\n",
              "\n",
              "  // All done.\n",
              "  yield {\n",
              "    response: {\n",
              "      action: 'complete',\n",
              "    }\n",
              "  };\n",
              "}\n",
              "\n",
              "scope.google = scope.google || {};\n",
              "scope.google.colab = scope.google.colab || {};\n",
              "scope.google.colab._files = {\n",
              "  _uploadFiles,\n",
              "  _uploadFilesContinue,\n",
              "};\n",
              "})(self);\n",
              "</script> "
            ]
          },
          "metadata": {}
        },
        {
          "output_type": "stream",
          "name": "stdout",
          "text": [
            "Saving insurance.csv to insurance (3).csv\n"
          ]
        }
      ]
    },
    {
      "cell_type": "markdown",
      "source": [
        "Para este algoritmo, não consegui reproduzir resultados satisfátorios como o algoritmo original SGD, uma vez que a única saída obtida era a média das saídas esperadas, não importasse qual (ou quais) hiperparâmetros eu alterasse. Apesar disso, irei mostrar abaixo esta versão falha do algoritmo e, logo em seguida, uma versão utilizando o algoritmo otimizado ADAM, que produz resultados mais satisfatórios e próximos aos esperados."
      ],
      "metadata": {
        "id": "PQoizRmkI4iY"
      }
    },
    {
      "cell_type": "markdown",
      "source": [
        "Além disso, poderá ser visto um gráfico de loss durante a execução do algoritmo MLP por SGD e por ADAM. Percebe-se que a perda no SGD é extremamente grande para a regressão, talvez sendo um porquê de este não estar produzindo respostas boas."
      ],
      "metadata": {
        "id": "IXtXFybAX2TL"
      }
    },
    {
      "cell_type": "markdown",
      "source": [
        "##Algoritmo (com SGD, dando errado a predição)"
      ],
      "metadata": {
        "id": "8W3NsFjbM3gq"
      }
    },
    {
      "cell_type": "code",
      "source": [
        "data['sex'].replace({'female': 1, 'male': 0}, inplace = True)\n",
        "data['smoker'].replace({'yes': 1, 'no': 0}, inplace = True)\n",
        "data['region'].replace({'southwest': 0, 'northwest': 1, 'northeast': 2, 'southeast': 3}, inplace = True)\n",
        "\n",
        "data['sex'].replace({'female': 1, 'male': 0}, inplace = True)\n",
        "data['smoker'].replace({'yes': 1, 'no': 0}, inplace = True)\n",
        "data['region'].replace({'southwest': 0, 'northwest': 1, 'northeast': 2, 'southeast': 3}, inplace = True)\n",
        "\n",
        "df_norm = data[['age', 'sex', 'bmi', 'children', 'smoker', 'region']].apply(lambda x: (x - x.min()) / (x.max() - x.min()))\n",
        "\n",
        "target = data['charges']\n",
        "\n",
        "age = df_norm['age']\n",
        "sex = df_norm['sex']\n",
        "bmi = df_norm['bmi']\n",
        "children = df_norm['children']\n",
        "smoker = df_norm['smoker']\n",
        "region = df_norm['region']\n",
        "\n",
        "X = np.column_stack((age, sex, bmi, children, smoker, region))\n",
        "y = target\n",
        "\n",
        "X_train, X_test, y_train, y_test = train_test_split(X, y, test_size = 0.2)\n",
        "\n",
        "mlpRegres = MLPRegressor(solver = 'sgd', max_iter=10000, momentum=0, alpha=1, learning_rate_init= 0.5, random_state=1, early_stopping=True, validation_fraction=0.2, activation = 'relu')\n",
        "mlpRegres.fit(X_train, y_train)\n",
        "prediction = mlpRegres.predict(X_test)\n",
        "#print(prediction, y_test.values)\n",
        "print(\"Score da regressão: \", mlpRegres.score(X_test, y_test))"
      ],
      "metadata": {
        "colab": {
          "base_uri": "https://localhost:8080/"
        },
        "id": "12-rJDC574CT",
        "outputId": "fa649b08-8b4f-49b0-e081-bef03beb44e2"
      },
      "execution_count": 119,
      "outputs": [
        {
          "output_type": "stream",
          "name": "stdout",
          "text": [
            "Score da regressão:  -0.011496919791020632\n"
          ]
        }
      ]
    },
    {
      "cell_type": "code",
      "source": [
        "plt.plot([i for i in range(mlpRegres.n_iter_)], mlpRegres.loss_curve_)\n",
        "plt.show()"
      ],
      "metadata": {
        "colab": {
          "base_uri": "https://localhost:8080/",
          "height": 276
        },
        "id": "3O71YeTbWcKK",
        "outputId": "9194ba2d-a703-44c6-b627-a6b762c9b6a4"
      },
      "execution_count": 120,
      "outputs": [
        {
          "output_type": "display_data",
          "data": {
            "text/plain": [
              "<Figure size 432x288 with 1 Axes>"
            ],
            "image/png": "[encoded data removed]"
          },
          "metadata": {
            "needs_background": "light"
          }
        }
      ]
    },
    {
      "cell_type": "markdown",
      "source": [
        "##Algoritmo (com ADAM)"
      ],
      "metadata": {
        "id": "hRd6HtCfNNNa"
      }
    },
    {
      "cell_type": "code",
      "source": [
        "data['sex'].replace({'female': 1, 'male': 0}, inplace = True)\n",
        "data['smoker'].replace({'yes': 1, 'no': 0}, inplace = True)\n",
        "data['region'].replace({'southwest': 0, 'northwest': 1, 'northeast': 2, 'southeast': 3}, inplace = True)\n",
        "\n",
        "data['sex'].replace({'female': 1, 'male': 0}, inplace = True)\n",
        "data['smoker'].replace({'yes': 1, 'no': 0}, inplace = True)\n",
        "data['region'].replace({'southwest': 0, 'northwest': 1, 'northeast': 2, 'southeast': 3}, inplace = True)\n",
        "\n",
        "df_norm = data[['age', 'sex', 'bmi', 'children', 'smoker', 'region']].apply(lambda x: (x - x.min()) / (x.max() - x.min()))\n",
        "\n",
        "target = data['charges']\n",
        "\n",
        "age = df_norm['age']\n",
        "sex = df_norm['sex']\n",
        "bmi = df_norm['bmi']\n",
        "children = df_norm['children']\n",
        "smoker = df_norm['smoker']\n",
        "region = df_norm['region']\n",
        "\n",
        "X = np.column_stack((age, sex, bmi, children, smoker, region))\n",
        "y = target\n",
        "\n",
        "X_train, X_test, y_train, y_test = train_test_split(X, y, test_size = 0.2)\n",
        "\n",
        "mlpRegres = MLPRegressor(solver = 'adam', max_iter=10000, momentum=0, alpha=1, learning_rate_init= 0.5, random_state=1, early_stopping=True, validation_fraction=0.2, activation = 'relu')\n",
        "mlpRegres.fit(X_train, y_train)\n",
        "prediction = mlpRegres.predict(X_test)\n",
        "#print(prediction, y_test.values)\n",
        "print(\"Score da regressão: \", mlpRegres.score(X_test, y_test))"
      ],
      "metadata": {
        "colab": {
          "base_uri": "https://localhost:8080/"
        },
        "outputId": "00485dc6-cc56-4ce2-a805-806f6bbb42c1",
        "id": "Euo0EHuhNNNm"
      },
      "execution_count": 121,
      "outputs": [
        {
          "output_type": "stream",
          "name": "stdout",
          "text": [
            "Score da regressão:  0.8531345097467999\n"
          ]
        }
      ]
    },
    {
      "cell_type": "code",
      "source": [
        "plt.plot([i for i in range(mlpRegres.n_iter_)], mlpRegres.loss_curve_)\n",
        "plt.show()"
      ],
      "metadata": {
        "colab": {
          "base_uri": "https://localhost:8080/",
          "height": 276
        },
        "id": "8UDMn9OPWXBi",
        "outputId": "3e3155d3-3970-4865-f4b6-3d0a877620ae"
      },
      "execution_count": 122,
      "outputs": [
        {
          "output_type": "display_data",
          "data": {
            "text/plain": [
              "<Figure size 432x288 with 1 Axes>"
            ],
            "image/png": "[encoded data removed]"
          },
          "metadata": {
            "needs_background": "light"
          }
        }
      ]
    }
  ]
}